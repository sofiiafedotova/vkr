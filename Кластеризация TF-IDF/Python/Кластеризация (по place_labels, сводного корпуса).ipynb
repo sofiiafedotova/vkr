{
  "cells": [
    {
      "cell_type": "code",
      "execution_count": null,
      "metadata": {
        "id": "YNW5Z1qfhffX"
      },
      "outputs": [],
      "source": [
        "# все импорты разом\n",
        "import pandas as pd\n",
        "import re\n",
        "import numpy as np\n",
        "from sklearn.metrics import homogeneity_completeness_v_measure, adjusted_rand_score, rand_score, confusion_matrix\n",
        "from sklearn.preprocessing import LabelEncoder\n",
        "from sklearn.cluster import KMeans\n",
        "from sklearn.feature_extraction.text import TfidfVectorizer\n",
        "from sklearn.pipeline import make_pipeline\n",
        "from scipy.optimize import linear_sum_assignment\n",
        "from sklearn.decomposition import PCA\n",
        "from sklearn.cluster import DBSCAN"
      ]
    },
    {
      "cell_type": "markdown",
      "source": [
        "# Кластеризация по place_labels: k-means + DBSCAN"
      ],
      "metadata": {
        "id": "ARQXCjNgrwKK"
      }
    },
    {
      "cell_type": "code",
      "source": [
        "stem_clean = pd.read_excel(\"stem_clean.xlsx\")"
      ],
      "metadata": {
        "id": "uLltksAxr2fN"
      },
      "execution_count": null,
      "outputs": []
    },
    {
      "cell_type": "code",
      "source": [
        "# фильтрую по id тексты с сомнительной атрибуцией к Улан-Батору\n",
        "ids_to_remove = [5, 6, 8, 15, 35, 36, 42, 46, 49, 77, 80, 94, 95, 97, 99, 100]\n",
        "\n",
        "stem_clean = stem_clean[~stem_clean['id'].isin(ids_to_remove)]"
      ],
      "metadata": {
        "id": "otGpOIQ-WBl8",
        "colab": {
          "base_uri": "https://localhost:8080/",
          "height": 182
        },
        "outputId": "2005aff7-6b1d-4195-a6e0-d25a65fcbe50"
      },
      "execution_count": 1,
      "outputs": [
        {
          "output_type": "error",
          "ename": "NameError",
          "evalue": "name 'stem_clean' is not defined",
          "traceback": [
            "\u001b[0;31m---------------------------------------------------------------------------\u001b[0m",
            "\u001b[0;31mNameError\u001b[0m                                 Traceback (most recent call last)",
            "\u001b[0;32m<ipython-input-1-a92ee0e99ed5>\u001b[0m in \u001b[0;36m<cell line: 0>\u001b[0;34m()\u001b[0m\n\u001b[1;32m      1\u001b[0m \u001b[0mids_to_remove\u001b[0m \u001b[0;34m=\u001b[0m \u001b[0;34m[\u001b[0m\u001b[0;36m5\u001b[0m\u001b[0;34m,\u001b[0m \u001b[0;36m6\u001b[0m\u001b[0;34m,\u001b[0m \u001b[0;36m8\u001b[0m\u001b[0;34m,\u001b[0m \u001b[0;36m15\u001b[0m\u001b[0;34m,\u001b[0m \u001b[0;36m35\u001b[0m\u001b[0;34m,\u001b[0m \u001b[0;36m36\u001b[0m\u001b[0;34m,\u001b[0m \u001b[0;36m42\u001b[0m\u001b[0;34m,\u001b[0m \u001b[0;36m46\u001b[0m\u001b[0;34m,\u001b[0m \u001b[0;36m49\u001b[0m\u001b[0;34m,\u001b[0m \u001b[0;36m77\u001b[0m\u001b[0;34m,\u001b[0m \u001b[0;36m80\u001b[0m\u001b[0;34m,\u001b[0m \u001b[0;36m94\u001b[0m\u001b[0;34m,\u001b[0m \u001b[0;36m95\u001b[0m\u001b[0;34m,\u001b[0m \u001b[0;36m97\u001b[0m\u001b[0;34m,\u001b[0m \u001b[0;36m99\u001b[0m\u001b[0;34m,\u001b[0m \u001b[0;36m100\u001b[0m\u001b[0;34m]\u001b[0m\u001b[0;34m\u001b[0m\u001b[0;34m\u001b[0m\u001b[0m\n\u001b[1;32m      2\u001b[0m \u001b[0;34m\u001b[0m\u001b[0m\n\u001b[0;32m----> 3\u001b[0;31m \u001b[0mstem_clean\u001b[0m \u001b[0;34m=\u001b[0m \u001b[0mstem_clean\u001b[0m\u001b[0;34m[\u001b[0m\u001b[0;34m~\u001b[0m\u001b[0mstem_clean\u001b[0m\u001b[0;34m[\u001b[0m\u001b[0;34m'id'\u001b[0m\u001b[0;34m]\u001b[0m\u001b[0;34m.\u001b[0m\u001b[0misin\u001b[0m\u001b[0;34m(\u001b[0m\u001b[0mids_to_remove\u001b[0m\u001b[0;34m)\u001b[0m\u001b[0;34m]\u001b[0m\u001b[0;34m\u001b[0m\u001b[0;34m\u001b[0m\u001b[0m\n\u001b[0m",
            "\u001b[0;31mNameError\u001b[0m: name 'stem_clean' is not defined"
          ]
        }
      ]
    },
    {
      "cell_type": "code",
      "source": [
        "# tf-idf\n",
        "vectorizer = TfidfVectorizer(\n",
        "    max_df=0.5,\n",
        "    min_df=2,\n",
        ")\n",
        "X_tfidf = vectorizer.fit_transform(stem_clean[\"text\"])\n",
        "\n",
        "print(f\"n_samples: {X_tfidf.shape[0]}, n_features: {X_tfidf.shape[1]}\")"
      ],
      "metadata": {
        "colab": {
          "base_uri": "https://localhost:8080/"
        },
        "id": "PZcpT7d8vF1O",
        "outputId": "f25f3337-b6eb-476b-c7d0-05809bf56014"
      },
      "execution_count": null,
      "outputs": [
        {
          "output_type": "stream",
          "name": "stdout",
          "text": [
            "n_samples: 99, n_features: 635\n"
          ]
        }
      ]
    },
    {
      "cell_type": "markdown",
      "source": [
        "## k-means"
      ],
      "metadata": {
        "id": "14K2FyNt0bVI"
      }
    },
    {
      "cell_type": "code",
      "source": [
        "kmeans = KMeans(\n",
        "    n_clusters=7,\n",
        "    max_iter=100,\n",
        "    n_init=20,\n",
        "    random_state=42\n",
        ")\n",
        "\n",
        "kmeans.fit(X_tfidf)\n",
        "clusters = kmeans.fit_predict(X_tfidf)\n",
        "stem_clean['cluster'] = clusters"
      ],
      "metadata": {
        "id": "iUg3YA8PvJQD"
      },
      "execution_count": null,
      "outputs": []
    },
    {
      "cell_type": "code",
      "source": [
        "# топ-20 ближайших к центру слов для каждого кластера\n",
        "terms = vectorizer.get_feature_names_out()\n",
        "order_centroids = kmeans.cluster_centers_.argsort()[:, ::-1]\n",
        "\n",
        "for i in range(kmeans.n_clusters):\n",
        "    print(f\"Cluster {i}: \", end=\"\")\n",
        "    for ind in order_centroids[i, :20]:\n",
        "        print(terms[ind], end=\" \")\n",
        "    print()"
      ],
      "metadata": {
        "colab": {
          "base_uri": "https://localhost:8080/"
        },
        "id": "dQJnV97_4ltI",
        "outputId": "302001a2-5b5f-4b61-96d2-03be91637fb3"
      },
      "execution_count": null,
      "outputs": [
        {
          "output_type": "stream",
          "name": "stdout",
          "text": [
            "Cluster 0: жить дом переезжать отец двор закрывать видеть знать китаец стоять \n",
            "Cluster 1: змея лошадь подъезжать пойти знать мож откуда вода поросенок сидеть \n",
            "Cluster 2: рассказывать сделать бабка умирать ребенок помнить ведьма находить лечить поросенок \n",
            "Cluster 3: машина выходить ящик ребенок дверь длинный свечка просто знать ехать \n",
            "Cluster 4: юрта деньги отдавать баба икона мама мимо сторона описывать бабушка \n",
            "Cluster 5: заговаривать грыжа сучок бабка полено ходить испуг тетя вообще выбрасывать \n",
            "Cluster 6: петух корова червь палка доить курочка вылупливаться приносить земля пойти \n"
          ]
        }
      ]
    },
    {
      "cell_type": "code",
      "source": [
        "# преобразование ожидаемых меток для вычисления метрик соответствия ожиданиям\n",
        "label_encoder = LabelEncoder()\n",
        "y = label_encoder.fit_transform(stem_clean['place_labels'])"
      ],
      "metadata": {
        "id": "l4127QVdvOy4"
      },
      "execution_count": null,
      "outputs": []
    },
    {
      "cell_type": "code",
      "source": [
        "# метрики: гомогенность, полнота, v-мера, индекс adjusted rand\n",
        "print(homogeneity_completeness_v_measure(y, kmeans.labels_))\n",
        "print(adjusted_rand_score(y, kmeans.labels_))"
      ],
      "metadata": {
        "colab": {
          "base_uri": "https://localhost:8080/"
        },
        "id": "57N90GuYvbgf",
        "outputId": "c1df34b4-9715-45f9-d55d-1fdab2b40c94"
      },
      "execution_count": null,
      "outputs": [
        {
          "output_type": "stream",
          "name": "stdout",
          "text": [
            "(np.float64(0.20047713897259842), np.float64(0.1741489039446749), np.float64(0.18638786426149184))\n",
            "0.014183651584323243\n"
          ]
        }
      ]
    },
    {
      "cell_type": "code",
      "source": [
        "# распределение текстов по кластерам\n",
        "labels = kmeans.labels_\n",
        "unique, counts = np.unique(labels, return_counts=True)\n",
        "\n",
        "for cluster, count in zip(unique, counts):\n",
        "    print(f\"Кластер {cluster}: {count} текстов\")\n",
        "\n",
        "\n",
        "clusters_ids = stem_clean.groupby(\"cluster\")[\"id\"].apply(list)\n",
        "for cluster_num, ids in clusters_ids.items():\n",
        "    print(f\"Кластер {cluster_num}: {', '.join(map(str, ids))}\")"
      ],
      "metadata": {
        "colab": {
          "base_uri": "https://localhost:8080/"
        },
        "id": "kB6I6PGd4FKs",
        "outputId": "8665a31f-8b08-49a4-b9c8-ecb4b3d4c5bf"
      },
      "execution_count": null,
      "outputs": [
        {
          "output_type": "stream",
          "name": "stdout",
          "text": [
            "Кластер 0: 1, 2, 3, 4, 9, 10, 14, 20, 21, 22, 78, 79, 81, 82, 86, 87, 89, 91, 96, 102, 107, 110, 113\n",
            "Кластер 1: 7, 60, 61, 62, 63, 64, 65, 69, 70, 109, 111\n",
            "Кластер 2: 13, 23, 24, 25, 28, 30, 37, 41, 43, 47, 48, 52, 58, 59, 68, 72, 74, 75, 76, 88, 92, 98, 103\n",
            "Кластер 3: 12, 16, 17, 18, 19, 26, 27, 38, 50, 51, 53, 55, 56, 73, 84, 85, 101, 112, 114\n",
            "Кластер 4: 11, 29, 54, 71, 83, 90, 93, 104, 105, 106, 108, 115\n",
            "Кластер 5: 31, 32, 33, 34, 45, 57\n",
            "Кластер 6: 39, 40, 44, 66, 67\n"
          ]
        }
      ]
    },
    {
      "cell_type": "markdown",
      "source": [
        "## DBSCAN"
      ],
      "metadata": {
        "id": "lfaHVLY40jNp"
      }
    },
    {
      "cell_type": "code",
      "source": [
        "# снижаю размерность\n",
        "np.random.seed(42)\n",
        "pca = PCA(n_components=2)\n",
        "pca_data = pca.fit_transform(X_tfidf)"
      ],
      "metadata": {
        "colab": {
          "base_uri": "https://localhost:8080/"
        },
        "id": "TmZinJozZAhZ",
        "outputId": "fb1c26d6-9b63-4364-e126-73a5e2f75e6e"
      },
      "execution_count": null,
      "outputs": [
        {
          "output_type": "stream",
          "name": "stdout",
          "text": [
            "Кластер -1: 3 текстов\n",
            "Кластер 0: 83 текстов\n",
            "Кластер 1: 3 текстов\n",
            "Кластер 2: 2 текстов\n",
            "Кластер 3: 2 текстов\n",
            "Кластер 4: 2 текстов\n",
            "Кластер 5: 2 текстов\n",
            "Кластер 6: 2 текстов\n"
          ]
        }
      ]
    },
    {
      "cell_type": "code",
      "source": [
        "# кластеризация DBSCAN\n",
        "db = DBSCAN(eps=0.09, min_samples=2)\n",
        "db.fit(pca_data)"
      ],
      "metadata": {
        "id": "kXLVHfY20qSg"
      },
      "execution_count": null,
      "outputs": []
    },
    {
      "cell_type": "code",
      "source": [
        "# метрики: гомогенность, полнота, v-мера, индекс adjusted rand\n",
        "print(homogeneity_completeness_v_measure(y, db.labels_))\n",
        "print(adjusted_rand_score(y, db.labels_))"
      ],
      "metadata": {
        "colab": {
          "base_uri": "https://localhost:8080/"
        },
        "id": "3tKGuTKqc7Bv",
        "outputId": "39c1fa83-b370-4e8b-fff3-dc93914b7390"
      },
      "execution_count": null,
      "outputs": [
        {
          "output_type": "stream",
          "name": "stdout",
          "text": [
            "(np.float64(0.10040510107404757), np.float64(0.210067332434913), np.float64(0.13586927191636972))\n",
            "0.014183651584323243\n"
          ]
        }
      ]
    },
    {
      "cell_type": "code",
      "source": [
        "# распределение текстов по кластерам\n",
        "labels = db.labels_\n",
        "stem_clean['cluster'] = labels\n",
        "unique, counts = np.unique(labels, return_counts=True)\n",
        "\n",
        "for cluster, count in zip(unique, counts):\n",
        "    print(f\"Кластер {cluster}: {count} текстов\")\n",
        "\n",
        "clusters_ids = stem_clean.groupby(\"cluster\")[\"id\"].apply(list)\n",
        "\n",
        "for cluster_num, ids in clusters_ids.items():\n",
        "    print(f\"Кластер {cluster_num}: {', '.join(map(str, ids))}\")"
      ],
      "metadata": {
        "colab": {
          "base_uri": "https://localhost:8080/"
        },
        "id": "44LTfHwve0ng",
        "outputId": "dec53039-113f-454b-cf69-01a675854e94"
      },
      "execution_count": null,
      "outputs": [
        {
          "output_type": "stream",
          "name": "stdout",
          "text": [
            "Кластер -1: 45, 57, 65\n",
            "Кластер 0: 1, 2, 3, 4, 7, 9, 10, 11, 12, 13, 14, 16, 17, 18, 19, 20, 21, 22, 23, 24, 25, 26, 27, 28, 29, 30, 37, 38, 39, 40, 41, 43, 44, 47, 48, 50, 51, 52, 53, 54, 55, 56, 58, 59, 66, 67, 68, 69, 70, 71, 72, 73, 74, 75, 76, 78, 79, 81, 82, 83, 84, 85, 86, 87, 88, 89, 90, 91, 92, 93, 96, 98, 101, 102, 103, 104, 105, 106, 107, 108, 109, 110, 112, 113, 114, 115\n",
            "Кластер 1: 31, 32\n",
            "Кластер 2: 33, 34\n",
            "Кластер 3: 60, 62\n",
            "Кластер 4: 61, 64\n",
            "Кластер 5: 63, 111\n"
          ]
        }
      ]
    },
    {
      "cell_type": "markdown",
      "metadata": {
        "id": "_VYY6yL9mcFs"
      },
      "source": [
        "# Кластеризация сводного корпуса"
      ]
    },
    {
      "cell_type": "code",
      "execution_count": null,
      "metadata": {
        "id": "dfO-Hslh4_Sc"
      },
      "outputs": [],
      "source": [
        "experiment = pd.read_excel(\"experiment.xlsx\")"
      ]
    },
    {
      "cell_type": "code",
      "execution_count": null,
      "metadata": {
        "id": "ox7J5K2_ulik"
      },
      "outputs": [],
      "source": [
        "# tf-idf\n",
        "vectorizer = TfidfVectorizer(\n",
        "    max_df=0.5,\n",
        "    min_df=5,\n",
        ")\n",
        "X_tfidf = vectorizer.fit_transform(experiment[\"text\"])"
      ]
    },
    {
      "cell_type": "code",
      "execution_count": null,
      "metadata": {
        "id": "g7ly_wXysRWd"
      },
      "outputs": [],
      "source": [
        "# кластеризация k-means\n",
        "kmeans = KMeans(\n",
        "    n_clusters=2,\n",
        "    max_iter=100,\n",
        "    n_init=\"auto\",\n",
        "    random_state=0\n",
        ")\n",
        "\n",
        "kmeans.fit(X_tfidf)\n",
        "clusters = kmeans.fit_predict(X_tfidf)\n",
        "experiment['cluster'] = clusters"
      ]
    },
    {
      "cell_type": "code",
      "execution_count": null,
      "metadata": {
        "colab": {
          "base_uri": "https://localhost:8080/"
        },
        "id": "vOb0Wswh9Ol9",
        "outputId": "a7d5fdb9-a823-4705-85dc-5e15a5846bb0"
      },
      "outputs": [
        {
          "output_type": "stream",
          "name": "stdout",
          "text": [
            "Кластер 0: 122 текстов\n",
            "Кластер 1: 108 текстов\n"
          ]
        }
      ],
      "source": [
        "# распределение по кластерам\n",
        "labels = kmeans.labels_\n",
        "unique, counts = np.unique(labels, return_counts=True)\n",
        "\n",
        "for cluster, count in zip(unique, counts):\n",
        "    print(f\"Кластер {cluster}: {count} текстов\")"
      ]
    },
    {
      "cell_type": "code",
      "source": [
        "# преобразование ожидаемых меток\n",
        "experiment['label'] = experiment['id'].apply(lambda x: 2 if 'zin' in str(x) else 1)\n",
        "y = experiment['label']"
      ],
      "metadata": {
        "id": "kH0XQ6dRhg3W"
      },
      "execution_count": null,
      "outputs": []
    },
    {
      "cell_type": "code",
      "execution_count": null,
      "metadata": {
        "colab": {
          "base_uri": "https://localhost:8080/"
        },
        "id": "dBwY6GJD5jI1",
        "outputId": "90d5cb80-9b6c-40dc-a1bd-26aad4df7d40"
      },
      "outputs": [
        {
          "output_type": "stream",
          "name": "stdout",
          "text": [
            "(np.float64(0.5083364920358026), np.float64(0.5096995920685227), np.float64(0.5090171294903545))\n",
            "0.8053920637934308\n"
          ]
        }
      ],
      "source": [
        "# метрики\n",
        "print(homogeneity_completeness_v_measure(y, kmeans.labels_))\n",
        "print(rand_score(y, kmeans.labels_))"
      ]
    },
    {
      "cell_type": "code",
      "source": [
        "# матрица ошибок\n",
        "cm = confusion_matrix(y, kmeans.labels_)\n",
        "\n",
        "# наилучшее соответствие кластеров меткам\n",
        "row_ind, col_ind = linear_sum_assignment(-cm)\n",
        "\n",
        "# количество правильных\n",
        "correct = cm[row_ind, col_ind].sum()\n",
        "total = len(y)\n",
        "incorrect = total - correct\n",
        "\n",
        "print(f\"Правильно кластеризовано: {correct} из {total}\")\n",
        "print(f\"Ошибок: {incorrect}\")\n",
        "print(f\"Точность: {correct / total:.3f}\")"
      ],
      "metadata": {
        "colab": {
          "base_uri": "https://localhost:8080/"
        },
        "id": "9j8m20ilrjKZ",
        "outputId": "03d2a616-b2a6-42b9-bf5f-672943691e66"
      },
      "execution_count": null,
      "outputs": [
        {
          "output_type": "stream",
          "name": "stdout",
          "text": [
            "Правильно кластеризовано: 205 из 230\n",
            "Ошибок: 25\n",
            "Точность: 0.891\n"
          ]
        }
      ]
    },
    {
      "cell_type": "code",
      "source": [
        "# топ-20 ближайших к центру слов для каждого кластера\n",
        "terms = vectorizer.get_feature_names_out()  # слова из векторизатора\n",
        "order_centroids = kmeans.cluster_centers_.argsort()[:, ::-1]  # индексы слов по убыванию важности\n",
        "\n",
        "for i in range(kmeans.n_clusters):\n",
        "    print(f\"Cluster {i}: \", end=\"\")\n",
        "    for ind in order_centroids[i, :20]:\n",
        "        print(terms[ind], end=\" \")\n",
        "    print()"
      ],
      "metadata": {
        "id": "c3C2Whfy0n40",
        "outputId": "cf993bb4-45f6-41c9-ae89-5baa5ec52f6e",
        "colab": {
          "base_uri": "https://localhost:8080/"
        }
      },
      "execution_count": null,
      "outputs": [
        {
          "output_type": "stream",
          "name": "stdout",
          "text": [
            "Cluster 0: пойти идти конь приходить баня становиться гыт взять черт давать \n",
            "Cluster 1: знать змея бабка ребенок заговаривать дом просто рассказывать жить помнить \n"
          ]
        }
      ]
    }
  ],
  "metadata": {
    "colab": {
      "provenance": []
    },
    "kernelspec": {
      "display_name": "Python 3",
      "name": "python3"
    },
    "language_info": {
      "name": "python"
    }
  },
  "nbformat": 4,
  "nbformat_minor": 0
}